{
 "cells": [
  {
   "cell_type": "code",
   "execution_count": 7,
   "metadata": {},
   "outputs": [],
   "source": [
    "library(dplyr)\n",
    "library(GenomicFeatures)"
   ]
  },
  {
   "cell_type": "code",
   "execution_count": 8,
   "metadata": {},
   "outputs": [
    {
     "name": "stderr",
     "output_type": "stream",
     "text": [
      "Import genomic features from the file as a GRanges object ... \n",
      "OK\n",
      "\n",
      "Prepare the 'metadata' data frame ... \n",
      "OK\n",
      "\n",
      "Make the TxDb object ... \n",
      "Warning message in .get_cds_IDX(mcols0$type, mcols0$phase):\n",
      "“The \"phase\" metadata column contains non-NA values for features of type\n",
      "  stop_codon. This information was ignored.”\n",
      "OK\n",
      "\n"
     ]
    }
   ],
   "source": [
    "# this scripts transform local (transcriptomic) coordinates of extensions into global (genomic) coordinates using .gtf file. \n",
    "txdb <- makeTxDbFromGFF('/home/alla/make_PhD_great_again/NTE/VERSION_since_May2021/data/gencode.v25.annotation.gtf')\n"
   ]
  },
  {
   "cell_type": "code",
   "execution_count": null,
   "metadata": {},
   "outputs": [],
   "source": []
  },
  {
   "cell_type": "markdown",
   "metadata": {},
   "source": [
    "# Known sole nonAUG: 5'UTR+nonAUG+dAUG1+4nt for the context "
   ]
  },
  {
   "cell_type": "code",
   "execution_count": 11,
   "metadata": {},
   "outputs": [
    {
     "data": {
      "text/html": [
       "<table>\n",
       "<caption>A data.frame: 18 × 3</caption>\n",
       "<thead>\n",
       "\t<tr><th scope=col>tr_id</th><th scope=col>nonAUG_start</th><th scope=col>dAUG1_start</th></tr>\n",
       "\t<tr><th scope=col>&lt;chr&gt;</th><th scope=col>&lt;int&gt;</th><th scope=col>&lt;int&gt;</th></tr>\n",
       "</thead>\n",
       "<tbody>\n",
       "\t<tr><td>ENST00000305943.7 </td><td>429</td><td> 756</td></tr>\n",
       "\t<tr><td>ENST00000524230.6 </td><td>166</td><td> 712</td></tr>\n",
       "\t<tr><td>ENST00000392391.7 </td><td>176</td><td> 299</td></tr>\n",
       "\t<tr><td>ENST00000392391.7 </td><td>176</td><td> 299</td></tr>\n",
       "\t<tr><td>ENST00000392391.7 </td><td>176</td><td> 299</td></tr>\n",
       "\t<tr><td>ENST00000392391.7 </td><td>176</td><td> 299</td></tr>\n",
       "\t<tr><td>ENST00000506618.3 </td><td> 82</td><td> 282</td></tr>\n",
       "\t<tr><td>ENST00000265806.10</td><td>269</td><td> 830</td></tr>\n",
       "\t<tr><td>ENST00000472232.7 </td><td> 88</td><td> 301</td></tr>\n",
       "\t<tr><td>ENST00000608796.5 </td><td>120</td><td> 438</td></tr>\n",
       "\t<tr><td>ENST00000343053.4 </td><td>194</td><td> 338</td></tr>\n",
       "\t<tr><td>ENST00000339995.9 </td><td>493</td><td>1111</td></tr>\n",
       "\t<tr><td>ENST00000381140.8 </td><td>195</td><td> 900</td></tr>\n",
       "\t<tr><td>ENST00000397260.7 </td><td>120</td><td> 453</td></tr>\n",
       "\t<tr><td>ENST00000329610.4 </td><td>383</td><td> 539</td></tr>\n",
       "\t<tr><td>ENST00000307522.3 </td><td>565</td><td> 775</td></tr>\n",
       "\t<tr><td>ENST00000403230.1 </td><td> 76</td><td> 313</td></tr>\n",
       "\t<tr><td>ENST00000333039.2 </td><td>125</td><td> 158</td></tr>\n",
       "</tbody>\n",
       "</table>\n"
      ],
      "text/latex": [
       "A data.frame: 18 × 3\n",
       "\\begin{tabular}{lll}\n",
       " tr\\_id & nonAUG\\_start & dAUG1\\_start\\\\\n",
       " <chr> & <int> & <int>\\\\\n",
       "\\hline\n",
       "\t ENST00000305943.7  & 429 &  756\\\\\n",
       "\t ENST00000524230.6  & 166 &  712\\\\\n",
       "\t ENST00000392391.7  & 176 &  299\\\\\n",
       "\t ENST00000392391.7  & 176 &  299\\\\\n",
       "\t ENST00000392391.7  & 176 &  299\\\\\n",
       "\t ENST00000392391.7  & 176 &  299\\\\\n",
       "\t ENST00000506618.3  &  82 &  282\\\\\n",
       "\t ENST00000265806.10 & 269 &  830\\\\\n",
       "\t ENST00000472232.7  &  88 &  301\\\\\n",
       "\t ENST00000608796.5  & 120 &  438\\\\\n",
       "\t ENST00000343053.4  & 194 &  338\\\\\n",
       "\t ENST00000339995.9  & 493 & 1111\\\\\n",
       "\t ENST00000381140.8  & 195 &  900\\\\\n",
       "\t ENST00000397260.7  & 120 &  453\\\\\n",
       "\t ENST00000329610.4  & 383 &  539\\\\\n",
       "\t ENST00000307522.3  & 565 &  775\\\\\n",
       "\t ENST00000403230.1  &  76 &  313\\\\\n",
       "\t ENST00000333039.2  & 125 &  158\\\\\n",
       "\\end{tabular}\n"
      ],
      "text/markdown": [
       "\n",
       "A data.frame: 18 × 3\n",
       "\n",
       "| tr_id &lt;chr&gt; | nonAUG_start &lt;int&gt; | dAUG1_start &lt;int&gt; |\n",
       "|---|---|---|\n",
       "| ENST00000305943.7  | 429 |  756 |\n",
       "| ENST00000524230.6  | 166 |  712 |\n",
       "| ENST00000392391.7  | 176 |  299 |\n",
       "| ENST00000392391.7  | 176 |  299 |\n",
       "| ENST00000392391.7  | 176 |  299 |\n",
       "| ENST00000392391.7  | 176 |  299 |\n",
       "| ENST00000506618.3  |  82 |  282 |\n",
       "| ENST00000265806.10 | 269 |  830 |\n",
       "| ENST00000472232.7  |  88 |  301 |\n",
       "| ENST00000608796.5  | 120 |  438 |\n",
       "| ENST00000343053.4  | 194 |  338 |\n",
       "| ENST00000339995.9  | 493 | 1111 |\n",
       "| ENST00000381140.8  | 195 |  900 |\n",
       "| ENST00000397260.7  | 120 |  453 |\n",
       "| ENST00000329610.4  | 383 |  539 |\n",
       "| ENST00000307522.3  | 565 |  775 |\n",
       "| ENST00000403230.1  |  76 |  313 |\n",
       "| ENST00000333039.2  | 125 |  158 |\n",
       "\n"
      ],
      "text/plain": [
       "   tr_id              nonAUG_start dAUG1_start\n",
       "1  ENST00000305943.7  429           756       \n",
       "2  ENST00000524230.6  166           712       \n",
       "3  ENST00000392391.7  176           299       \n",
       "4  ENST00000392391.7  176           299       \n",
       "5  ENST00000392391.7  176           299       \n",
       "6  ENST00000392391.7  176           299       \n",
       "7  ENST00000506618.3   82           282       \n",
       "8  ENST00000265806.10 269           830       \n",
       "9  ENST00000472232.7   88           301       \n",
       "10 ENST00000608796.5  120           438       \n",
       "11 ENST00000343053.4  194           338       \n",
       "12 ENST00000339995.9  493          1111       \n",
       "13 ENST00000381140.8  195           900       \n",
       "14 ENST00000397260.7  120           453       \n",
       "15 ENST00000329610.4  383           539       \n",
       "16 ENST00000307522.3  565           775       \n",
       "17 ENST00000403230.1   76           313       \n",
       "18 ENST00000333039.2  125           158       "
      ]
     },
     "metadata": {},
     "output_type": "display_data"
    }
   ],
   "source": [
    "cr <- read.csv('tmp_res/known_sole_nonAUG_local_coo.txt',  sep='\\t', stringsAsFactors = FALSE)\n",
    "\n",
    "cr"
   ]
  },
  {
   "cell_type": "code",
   "execution_count": 12,
   "metadata": {},
   "outputs": [],
   "source": [
    "tr_names <- cr$tr_id\n",
    "start <- 1 #it was zero  # cds_start_pos\tutr5_start\n",
    "end <- cr$dAUG1_start+7\n",
    "\n",
    "exons <- exonsBy(txdb, by=\"tx\", use.names=TRUE)[tr_names]\n",
    "x <- GRanges(tr_names, IRanges(start=start, end=end)) #,  \n",
    "out <- data.frame(pmapFromTranscripts(x, exons))\n",
    "write.table(out, 'tmp_res/known_sole_nonAUG_global_coo.txt', sep='\\t')"
   ]
  },
  {
   "cell_type": "code",
   "execution_count": null,
   "metadata": {},
   "outputs": [],
   "source": []
  },
  {
   "cell_type": "code",
   "execution_count": null,
   "metadata": {},
   "outputs": [],
   "source": []
  },
  {
   "cell_type": "code",
   "execution_count": null,
   "metadata": {},
   "outputs": [],
   "source": []
  },
  {
   "cell_type": "code",
   "execution_count": null,
   "metadata": {},
   "outputs": [],
   "source": []
  },
  {
   "cell_type": "code",
   "execution_count": null,
   "metadata": {},
   "outputs": [],
   "source": []
  },
  {
   "cell_type": "markdown",
   "metadata": {},
   "source": [
    "# All transcript with cdsATG "
   ]
  },
  {
   "cell_type": "code",
   "execution_count": 6,
   "metadata": {},
   "outputs": [
    {
     "data": {
      "text/html": [
       "<table>\n",
       "<caption>A data.frame: 6 × 2</caption>\n",
       "<thead>\n",
       "\t<tr><th></th><th scope=col>tr_id</th><th scope=col>cds_start_pos</th></tr>\n",
       "\t<tr><th></th><th scope=col>&lt;chr&gt;</th><th scope=col>&lt;int&gt;</th></tr>\n",
       "</thead>\n",
       "<tbody>\n",
       "\t<tr><th scope=row>1</th><td>ENST00000342066.7</td><td>83</td></tr>\n",
       "\t<tr><th scope=row>2</th><td>ENST00000618181.4</td><td>80</td></tr>\n",
       "\t<tr><th scope=row>3</th><td>ENST00000622503.4</td><td>80</td></tr>\n",
       "\t<tr><th scope=row>4</th><td>ENST00000618323.4</td><td>80</td></tr>\n",
       "\t<tr><th scope=row>5</th><td>ENST00000616016.4</td><td>80</td></tr>\n",
       "\t<tr><th scope=row>6</th><td>ENST00000618779.4</td><td>80</td></tr>\n",
       "</tbody>\n",
       "</table>\n"
      ],
      "text/latex": [
       "A data.frame: 6 × 2\n",
       "\\begin{tabular}{r|ll}\n",
       "  & tr\\_id & cds\\_start\\_pos\\\\\n",
       "  & <chr> & <int>\\\\\n",
       "\\hline\n",
       "\t1 & ENST00000342066.7 & 83\\\\\n",
       "\t2 & ENST00000618181.4 & 80\\\\\n",
       "\t3 & ENST00000622503.4 & 80\\\\\n",
       "\t4 & ENST00000618323.4 & 80\\\\\n",
       "\t5 & ENST00000616016.4 & 80\\\\\n",
       "\t6 & ENST00000618779.4 & 80\\\\\n",
       "\\end{tabular}\n"
      ],
      "text/markdown": [
       "\n",
       "A data.frame: 6 × 2\n",
       "\n",
       "| <!--/--> | tr_id &lt;chr&gt; | cds_start_pos &lt;int&gt; |\n",
       "|---|---|---|\n",
       "| 1 | ENST00000342066.7 | 83 |\n",
       "| 2 | ENST00000618181.4 | 80 |\n",
       "| 3 | ENST00000622503.4 | 80 |\n",
       "| 4 | ENST00000618323.4 | 80 |\n",
       "| 5 | ENST00000616016.4 | 80 |\n",
       "| 6 | ENST00000618779.4 | 80 |\n",
       "\n"
      ],
      "text/plain": [
       "  tr_id             cds_start_pos\n",
       "1 ENST00000342066.7 83           \n",
       "2 ENST00000618181.4 80           \n",
       "3 ENST00000622503.4 80           \n",
       "4 ENST00000618323.4 80           \n",
       "5 ENST00000616016.4 80           \n",
       "6 ENST00000618779.4 80           "
      ]
     },
     "metadata": {},
     "output_type": "display_data"
    }
   ],
   "source": [
    "cr <- read.csv('tmp_res/utr5_cdsATG_4nt_local.txt',  sep='\\t', stringsAsFactors = FALSE)\n",
    "\n",
    "head(cr)"
   ]
  },
  {
   "cell_type": "code",
   "execution_count": 7,
   "metadata": {},
   "outputs": [],
   "source": [
    "tr_names <- cr$tr_id\n",
    "start <- 1 #it was zero  # cds_start_pos\tutr5_start\n",
    "end <- cr$cds_start_pos+7\n",
    "\n",
    "exons <- exonsBy(txdb, by=\"tx\", use.names=TRUE)[tr_names]\n",
    "x <- GRanges(tr_names, IRanges(start=start, end=end)) #,  \n",
    "out <- data.frame(pmapFromTranscripts(x, exons))\n",
    "write.table(out, 'tmp_res/utr5_cdsATG_4nt_global.txt', sep='\\t')"
   ]
  },
  {
   "cell_type": "code",
   "execution_count": null,
   "metadata": {},
   "outputs": [],
   "source": []
  },
  {
   "cell_type": "code",
   "execution_count": null,
   "metadata": {},
   "outputs": [],
   "source": []
  },
  {
   "cell_type": "code",
   "execution_count": null,
   "metadata": {},
   "outputs": [],
   "source": []
  }
 ],
 "metadata": {
  "kernelspec": {
   "display_name": "R [conda env:r_env]",
   "language": "R",
   "name": "conda-env-r_env-r"
  },
  "language_info": {
   "codemirror_mode": "r",
   "file_extension": ".r",
   "mimetype": "text/x-r-source",
   "name": "R",
   "pygments_lexer": "r",
   "version": "3.6.1"
  }
 },
 "nbformat": 4,
 "nbformat_minor": 2
}

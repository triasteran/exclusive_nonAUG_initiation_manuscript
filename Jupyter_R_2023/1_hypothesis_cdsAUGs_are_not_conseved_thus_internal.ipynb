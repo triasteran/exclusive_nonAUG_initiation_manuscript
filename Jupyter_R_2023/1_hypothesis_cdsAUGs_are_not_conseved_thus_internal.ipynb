{
 "cells": [
  {
   "cell_type": "code",
   "execution_count": 1,
   "metadata": {},
   "outputs": [
    {
     "name": "stderr",
     "output_type": "stream",
     "text": [
      "\n",
      "Bad key text.latex.unicode in file /home/alla/anaconda3/lib/python3.7/site-packages/matplotlib/mpl-data/stylelib/_classic_test.mplstyle, line 112 ('text.latex.unicode : False # use \"ucs\" and \"inputenc\" LaTeX packages for handling')\n",
      "You probably need to get an updated matplotlibrc file from\n",
      "https://github.com/matplotlib/matplotlib/blob/v3.3.2/matplotlibrc.template\n",
      "or from the matplotlib source distribution\n",
      "\n",
      "Bad key savefig.frameon in file /home/alla/anaconda3/lib/python3.7/site-packages/matplotlib/mpl-data/stylelib/_classic_test.mplstyle, line 423 ('savefig.frameon : True')\n",
      "You probably need to get an updated matplotlibrc file from\n",
      "https://github.com/matplotlib/matplotlib/blob/v3.3.2/matplotlibrc.template\n",
      "or from the matplotlib source distribution\n",
      "\n",
      "Bad key pgf.debug in file /home/alla/anaconda3/lib/python3.7/site-packages/matplotlib/mpl-data/stylelib/_classic_test.mplstyle, line 444 ('pgf.debug           : False')\n",
      "You probably need to get an updated matplotlibrc file from\n",
      "https://github.com/matplotlib/matplotlib/blob/v3.3.2/matplotlibrc.template\n",
      "or from the matplotlib source distribution\n",
      "\n",
      "Bad key verbose.level in file /home/alla/anaconda3/lib/python3.7/site-packages/matplotlib/mpl-data/stylelib/_classic_test.mplstyle, line 475 ('verbose.level  : silent      # one of silent, helpful, debug, debug-annoying')\n",
      "You probably need to get an updated matplotlibrc file from\n",
      "https://github.com/matplotlib/matplotlib/blob/v3.3.2/matplotlibrc.template\n",
      "or from the matplotlib source distribution\n",
      "\n",
      "Bad key verbose.fileo in file /home/alla/anaconda3/lib/python3.7/site-packages/matplotlib/mpl-data/stylelib/_classic_test.mplstyle, line 476 ('verbose.fileo  : sys.stdout  # a log filename, sys.stdout or sys.stderr')\n",
      "You probably need to get an updated matplotlibrc file from\n",
      "https://github.com/matplotlib/matplotlib/blob/v3.3.2/matplotlibrc.template\n",
      "or from the matplotlib source distribution\n",
      "In /home/alla/anaconda3/lib/python3.7/site-packages/matplotlib/mpl-data/stylelib/_classic_test.mplstyle: \n",
      "The text.latex.preview rcparam was deprecated in Matplotlib 3.3 and will be removed two minor releases later.\n",
      "In /home/alla/anaconda3/lib/python3.7/site-packages/matplotlib/mpl-data/stylelib/_classic_test.mplstyle: \n",
      "The mathtext.fallback_to_cm rcparam was deprecated in Matplotlib 3.3 and will be removed two minor releases later.\n",
      "In /home/alla/anaconda3/lib/python3.7/site-packages/matplotlib/mpl-data/stylelib/_classic_test.mplstyle: Support for setting the 'mathtext.fallback_to_cm' rcParam is deprecated since 3.3 and will be removed two minor releases later; use 'mathtext.fallback : 'cm' instead.\n",
      "In /home/alla/anaconda3/lib/python3.7/site-packages/matplotlib/mpl-data/stylelib/_classic_test.mplstyle: \n",
      "The validate_bool_maybe_none function was deprecated in Matplotlib 3.3 and will be removed two minor releases later.\n",
      "In /home/alla/anaconda3/lib/python3.7/site-packages/matplotlib/mpl-data/stylelib/_classic_test.mplstyle: \n",
      "The savefig.jpeg_quality rcparam was deprecated in Matplotlib 3.3 and will be removed two minor releases later.\n",
      "In /home/alla/anaconda3/lib/python3.7/site-packages/matplotlib/mpl-data/stylelib/_classic_test.mplstyle: \n",
      "The keymap.all_axes rcparam was deprecated in Matplotlib 3.3 and will be removed two minor releases later.\n",
      "In /home/alla/anaconda3/lib/python3.7/site-packages/matplotlib/mpl-data/stylelib/_classic_test.mplstyle: \n",
      "The animation.avconv_path rcparam was deprecated in Matplotlib 3.3 and will be removed two minor releases later.\n",
      "In /home/alla/anaconda3/lib/python3.7/site-packages/matplotlib/mpl-data/stylelib/_classic_test.mplstyle: \n",
      "The animation.avconv_args rcparam was deprecated in Matplotlib 3.3 and will be removed two minor releases later.\n"
     ]
    }
   ],
   "source": [
    "%matplotlib inline\n",
    "\n",
    "import numpy as np\n",
    "import collections\n",
    "from collections import OrderedDict, Counter, defaultdict\n",
    "import pandas as pd\n",
    "\n",
    "import Bio\n",
    "from Bio import SeqIO\n",
    "from Bio.Seq import Seq\n",
    "\n",
    "import seaborn as sns\n",
    "import matplotlib.pyplot as plt\n",
    "from bokeh.plotting import figure, output_file, show \n",
    "import matplotlib.patches as patches    \n",
    "from matplotlib import colors\n",
    "\n",
    "\n",
    "import glob\n",
    "\n",
    "import subprocess\n",
    "from subprocess import call\n",
    "\n",
    "import re\n",
    "\n",
    "import pickle\n",
    "\n",
    "from Bio.SubsMat import MatrixInfo\n",
    "import Bio.Data.CodonTable\n",
    "\n",
    "from scipy import stats\n",
    "\n",
    "\n",
    "from Bio.SubsMat import MatrixInfo\n",
    "import Bio.Data.CodonTable\n",
    "\n",
    "import joypy\n",
    "\n",
    "import pyBigWig"
   ]
  },
  {
   "cell_type": "markdown",
   "metadata": {},
   "source": [
    "# Metadata "
   ]
  },
  {
   "cell_type": "code",
   "execution_count": 6,
   "metadata": {},
   "outputs": [],
   "source": [
    "path = '/home/alla/make_PhD_great_again/NTE/VERSION_since_May2021/'\n",
    "\n",
    "# gencode 25\n",
    "metadata_pc_g25 = pd.read_csv(path+'tmp_res/metadata_pc_g25.txt', sep='\\t')\n",
    "metadata_pc_g25['tr_id1'] = [x.split('.')[0] for x in metadata_pc_g25['tr_id'].tolist()] "
   ]
  },
  {
   "cell_type": "markdown",
   "metadata": {},
   "source": [
    "# Overlaps with coding exons "
   ]
  },
  {
   "cell_type": "code",
   "execution_count": 15,
   "metadata": {},
   "outputs": [
    {
     "name": "stdout",
     "output_type": "stream",
     "text": [
      "4449\n"
     ]
    },
    {
     "data": {
      "text/html": [
       "<div>\n",
       "<style scoped>\n",
       "    .dataframe tbody tr th:only-of-type {\n",
       "        vertical-align: middle;\n",
       "    }\n",
       "\n",
       "    .dataframe tbody tr th {\n",
       "        vertical-align: top;\n",
       "    }\n",
       "\n",
       "    .dataframe thead th {\n",
       "        text-align: right;\n",
       "    }\n",
       "</style>\n",
       "<table border=\"1\" class=\"dataframe\">\n",
       "  <thead>\n",
       "    <tr style=\"text-align: right;\">\n",
       "      <th></th>\n",
       "      <th>tr_id</th>\n",
       "      <th>strand</th>\n",
       "      <th>global_coo</th>\n",
       "      <th>tr_id1</th>\n",
       "      <th>gene</th>\n",
       "      <th>pos_of_codon</th>\n",
       "      <th>cds_start_pos</th>\n",
       "      <th>chr</th>\n",
       "      <th>Start_ext</th>\n",
       "      <th>Stop_ext</th>\n",
       "      <th>global_rank_ext</th>\n",
       "      <th>Start_codon_ext</th>\n",
       "      <th>Proteomics_count_ext</th>\n",
       "      <th>Coverage_value_ext</th>\n",
       "      <th>CDS_ratio</th>\n",
       "      <th>Riboseq_Summary</th>\n",
       "    </tr>\n",
       "  </thead>\n",
       "  <tbody>\n",
       "    <tr>\n",
       "      <th>0</th>\n",
       "      <td>ENST00000001146.6</td>\n",
       "      <td>-</td>\n",
       "      <td>chr2:72147835-72147954</td>\n",
       "      <td>ENST00000001146</td>\n",
       "      <td>CYP26B1</td>\n",
       "      <td>84</td>\n",
       "      <td>204</td>\n",
       "      <td>chr2</td>\n",
       "      <td>85</td>\n",
       "      <td>205</td>\n",
       "      <td>3888</td>\n",
       "      <td>CTG</td>\n",
       "      <td>0.0</td>\n",
       "      <td>11.428571</td>\n",
       "      <td>0.0</td>\n",
       "      <td>CTG; 85-205; Rank: 3888; cov: 11.43</td>\n",
       "    </tr>\n",
       "    <tr>\n",
       "      <th>1</th>\n",
       "      <td>ENST00000003084.10</td>\n",
       "      <td>+</td>\n",
       "      <td>chr7:117480044-117480094</td>\n",
       "      <td>ENST00000003084</td>\n",
       "      <td>CFTR</td>\n",
       "      <td>81</td>\n",
       "      <td>132</td>\n",
       "      <td>chr7</td>\n",
       "      <td>82</td>\n",
       "      <td>133</td>\n",
       "      <td>3401</td>\n",
       "      <td>AGG</td>\n",
       "      <td>0.0</td>\n",
       "      <td>16.666667</td>\n",
       "      <td>0.0</td>\n",
       "      <td>AGG; 82-133; Rank: 3401; cov: 16.67</td>\n",
       "    </tr>\n",
       "    <tr>\n",
       "      <th>2</th>\n",
       "      <td>ENST00000003302.8</td>\n",
       "      <td>-</td>\n",
       "      <td>chr11:113875502-113875561</td>\n",
       "      <td>ENST00000003302</td>\n",
       "      <td>USP28</td>\n",
       "      <td>9</td>\n",
       "      <td>69</td>\n",
       "      <td>chr11</td>\n",
       "      <td>10</td>\n",
       "      <td>70</td>\n",
       "      <td>2063</td>\n",
       "      <td>AGG</td>\n",
       "      <td>0.0</td>\n",
       "      <td>40.000000</td>\n",
       "      <td>0.0</td>\n",
       "      <td>AGG; 10-70; Rank: 2063; cov: 40.0</td>\n",
       "    </tr>\n",
       "  </tbody>\n",
       "</table>\n",
       "</div>"
      ],
      "text/plain": [
       "                tr_id strand                 global_coo           tr_id1  \\\n",
       "0   ENST00000001146.6      -     chr2:72147835-72147954  ENST00000001146   \n",
       "1  ENST00000003084.10      +   chr7:117480044-117480094  ENST00000003084   \n",
       "2   ENST00000003302.8      -  chr11:113875502-113875561  ENST00000003302   \n",
       "\n",
       "      gene  pos_of_codon  cds_start_pos    chr  Start_ext  Stop_ext  \\\n",
       "0  CYP26B1            84            204   chr2         85       205   \n",
       "1     CFTR            81            132   chr7         82       133   \n",
       "2    USP28             9             69  chr11         10        70   \n",
       "\n",
       "   global_rank_ext Start_codon_ext  Proteomics_count_ext  Coverage_value_ext  \\\n",
       "0             3888             CTG                   0.0           11.428571   \n",
       "1             3401             AGG                   0.0           16.666667   \n",
       "2             2063             AGG                   0.0           40.000000   \n",
       "\n",
       "   CDS_ratio                      Riboseq_Summary  \n",
       "0        0.0  CTG; 85-205; Rank: 3888; cov: 11.43  \n",
       "1        0.0  AGG; 82-133; Rank: 3401; cov: 16.67  \n",
       "2        0.0    AGG; 10-70; Rank: 2063; cov: 40.0  "
      ]
     },
     "execution_count": 15,
     "metadata": {},
     "output_type": "execute_result"
    }
   ],
   "source": [
    "ovlp = pd.read_csv('/home/alla/make_PhD_great_again/SNPS_in_NTE/GATK_CodALignVIew_McDonald_Kreitman/tmp_res/master_df_top5000_ext_no_ovlps_g25_39_refseq.txt', sep='\\t')\n",
    "ovlp['tr_id1'] = [x.split('.')[0] for x in ovlp['tr_id'].tolist()]\n",
    "\n",
    "print (ovlp.shape[0])\n",
    "\n",
    "ovlp[0:3]"
   ]
  },
  {
   "cell_type": "code",
   "execution_count": null,
   "metadata": {},
   "outputs": [],
   "source": []
  },
  {
   "cell_type": "markdown",
   "metadata": {},
   "source": [
    "# Genomic coo of 5'UTR + start codon (ATG) + 4nt for the context"
   ]
  },
  {
   "cell_type": "code",
   "execution_count": 16,
   "metadata": {},
   "outputs": [
    {
     "name": "stdout",
     "output_type": "stream",
     "text": [
      "94359 78873 60109 60065 59948\n"
     ]
    },
    {
     "name": "stderr",
     "output_type": "stream",
     "text": [
      "/home/alla/.local/lib/python3.7/site-packages/ipykernel_launcher.py:4: SettingWithCopyWarning: \n",
      "A value is trying to be set on a copy of a slice from a DataFrame.\n",
      "Try using .loc[row_indexer,col_indexer] = value instead\n",
      "\n",
      "See the caveats in the documentation: https://pandas.pydata.org/pandas-docs/stable/user_guide/indexing.html#returning-a-view-versus-a-copy\n",
      "  after removing the cwd from sys.path.\n"
     ]
    }
   ],
   "source": [
    "tmp = metadata_pc_g25[(metadata_pc_g25['utr5_end'].notna())]\n",
    "tmp2 = tmp[tmp['utr5_end'] > 0]\n",
    "\n",
    "tmp2['tr_len'] = tmp2['transcript_seq'].str.len()\n",
    "tmp3 = tmp2[tmp2['tr_len'] > tmp2['cds_stop_pos']]\n",
    "\n",
    "tmp4 = tmp3[tmp3['cds_stop_codon'].isin(['TAG', 'TGA', 'TAA'])]\n",
    "\n",
    "tmp5_only_AUG = tmp4[tmp4['cds_start_codon'] == 'ATG']\n",
    "\n",
    "print (metadata_pc_g25.shape[0], tmp2.shape[0], tmp3.shape[0], tmp4.shape[0], tmp5_only_AUG.shape[0])"
   ]
  },
  {
   "cell_type": "code",
   "execution_count": 21,
   "metadata": {},
   "outputs": [],
   "source": [
    "!mkdir -p tmp_res"
   ]
  },
  {
   "cell_type": "code",
   "execution_count": 22,
   "metadata": {},
   "outputs": [],
   "source": [
    "tmp4[['tr_id', 'cds_start_pos']].to_csv('tmp_res/utr5_cdsATG_4nt_local.txt', sep='\\t', index=False)"
   ]
  },
  {
   "cell_type": "code",
   "execution_count": 24,
   "metadata": {},
   "outputs": [],
   "source": [
    "def prepare_global_coo(path_to_file_with_global_coo, colname):\n",
    "    global_coo_g25 = pd.read_csv(path_to_file_with_global_coo, sep='\\t')\n",
    "    global_coo_g25_f = global_coo_g25[global_coo_g25['hit'] == True]\n",
    "    global_coo_g25_f = global_coo_g25_f.sort_values(by=['seqnames', 'start'])\n",
    "    \n",
    "    global_coo_g25_f['global_coo'] = global_coo_g25_f['seqnames']+':'+global_coo_g25_f['start'].astype(str) +'-'+global_coo_g25_f['end'].astype(str)\n",
    "    global_coo_g25_f = global_coo_g25_f[['group_name', 'strand', 'global_coo']].groupby(['group_name', 'strand']).agg('+'.join).reset_index()\n",
    "    global_coo_g25_f.columns = ['tr_id', 'strand', colname]\n",
    "    return global_coo_g25_f"
   ]
  },
  {
   "cell_type": "code",
   "execution_count": 25,
   "metadata": {},
   "outputs": [],
   "source": [
    "primary_global = prepare_global_coo(path_to_file_with_global_coo='tmp_res/utr5_cdsATG_4nt_global.txt',\n",
    "                                   colname = 'global_coo')"
   ]
  },
  {
   "cell_type": "code",
   "execution_count": 27,
   "metadata": {},
   "outputs": [],
   "source": [
    "primary_global.to_csv('tmp_res/ATG_transcripts_5UTR_ATG_4nt.txt', \n",
    "                      sep='\\t', \n",
    "                      index=False)"
   ]
  },
  {
   "cell_type": "code",
   "execution_count": null,
   "metadata": {},
   "outputs": [],
   "source": []
  },
  {
   "cell_type": "markdown",
   "metadata": {},
   "source": [
    "# Genomic coo of 5'UTR + start codon (nonATG) + dAUG1 + 4nt of context "
   ]
  },
  {
   "cell_type": "code",
   "execution_count": null,
   "metadata": {},
   "outputs": [],
   "source": [
    "d = {''}"
   ]
  },
  {
   "cell_type": "code",
   "execution_count": null,
   "metadata": {},
   "outputs": [],
   "source": [
    "18844"
   ]
  },
  {
   "cell_type": "code",
   "execution_count": null,
   "metadata": {},
   "outputs": [],
   "source": []
  },
  {
   "cell_type": "code",
   "execution_count": null,
   "metadata": {},
   "outputs": [],
   "source": []
  },
  {
   "cell_type": "code",
   "execution_count": null,
   "metadata": {},
   "outputs": [],
   "source": []
  },
  {
   "cell_type": "markdown",
   "metadata": {},
   "source": [
    "# Functions for parsing alignments "
   ]
  },
  {
   "cell_type": "code",
   "execution_count": 28,
   "metadata": {},
   "outputs": [],
   "source": [
    "def get_aln(fasta_input):\n",
    "    aln_col = []\n",
    "    ids_li = []\n",
    "    \n",
    "    with open(fasta_input, 'r') as input_handle:\n",
    "        for record in SeqIO.parse(input_handle, \"fasta\"):\n",
    "            seq = str(record.seq)\n",
    "            ids = str(record.id)\n",
    "            aln_col.append([seq[i:i+1] for i in range(0, len(seq), 1)])\n",
    "            ids_li.append(ids)\n",
    "    return aln_col, ids_li\n",
    "\n",
    "def re_index_with_gaps(aln_col):\n",
    "    new_col_ind = []\n",
    "\n",
    "    # take ref seq\n",
    "    counter_pos = 0 # to exclude '-'\n",
    "\n",
    "    for col in pd.DataFrame(aln_col).to_numpy()[0]:\n",
    "        if (col == '-') | (col == '.'): # UCC UGA C = TCC TGA C\n",
    "            new_col_ind.append(counter_pos)\n",
    "        else: \n",
    "            counter_pos += 1\n",
    "            new_col_ind.append(counter_pos)\n",
    "    \n",
    "    return new_col_ind\n",
    "\n",
    "\n",
    "def slice_aln(aln_col, new_col_ind, a, b):\n",
    "    fr_stop_motif_array = []\n",
    "    for row in pd.DataFrame(aln_col).to_numpy():\n",
    "        tmp = []\n",
    "        for ind, col in zip(new_col_ind, row):\n",
    "            if (ind >= a) & (ind <= b):\n",
    "                tmp.append(col)\n",
    "            \n",
    "        fr_stop_motif_array.append(tmp)\n",
    "    \n",
    "    return fr_stop_motif_array\n"
   ]
  },
  {
   "cell_type": "code",
   "execution_count": null,
   "metadata": {},
   "outputs": [],
   "source": []
  }
 ],
 "metadata": {
  "kernelspec": {
   "display_name": "Python 3",
   "language": "python",
   "name": "python3"
  },
  "language_info": {
   "codemirror_mode": {
    "name": "ipython",
    "version": 3
   },
   "file_extension": ".py",
   "mimetype": "text/x-python",
   "name": "python",
   "nbconvert_exporter": "python",
   "pygments_lexer": "ipython3",
   "version": "3.7.6"
  }
 },
 "nbformat": 4,
 "nbformat_minor": 2
}

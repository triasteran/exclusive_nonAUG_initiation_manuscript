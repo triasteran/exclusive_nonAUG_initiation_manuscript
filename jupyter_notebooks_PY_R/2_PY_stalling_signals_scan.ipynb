{
 "cells": [
  {
   "cell_type": "code",
   "execution_count": 14,
   "metadata": {},
   "outputs": [],
   "source": [
    "%matplotlib inline\n",
    "\n",
    "import numpy as np\n",
    "import collections\n",
    "from collections import OrderedDict, Counter, defaultdict\n",
    "import pandas as pd\n",
    "\n",
    "import Bio\n",
    "from Bio import SeqIO\n",
    "\n",
    "import seaborn as sns\n",
    "import matplotlib.pyplot as plt\n",
    "from bokeh.plotting import figure, output_file, show \n",
    "import matplotlib.patches as patches    \n",
    "from matplotlib import colors\n",
    "\n",
    "\n",
    "import glob\n",
    "\n",
    "import subprocess\n",
    "from subprocess import call\n",
    "\n",
    "import re\n",
    "\n",
    "import pickle\n",
    "\n",
    "from Bio.SubsMat import MatrixInfo\n",
    "import Bio.Data.CodonTable\n",
    "\n",
    "from scipy import stats\n",
    "\n",
    "\n",
    "from Bio.SubsMat import MatrixInfo\n",
    "import Bio.Data.CodonTable\n",
    "\n",
    "import joypy"
   ]
  },
  {
   "cell_type": "code",
   "execution_count": null,
   "metadata": {},
   "outputs": [],
   "source": []
  },
  {
   "cell_type": "markdown",
   "metadata": {},
   "source": [
    "# Metadata"
   ]
  },
  {
   "cell_type": "code",
   "execution_count": 15,
   "metadata": {},
   "outputs": [],
   "source": [
    "path = '/home/alla/make_PhD_great_again/NTE/VERSION_since_May2021/'\n",
    "\n",
    "# gencode 25\n",
    "metadata_pc_g25 = pd.read_csv(path+'tmp_res/metadata_pc_g25.txt', sep='\\t')\n",
    "\n",
    "metadata_pc_g25['tr_id1'] = [x.split('.')[0] for x in metadata_pc_g25['tr_id'].tolist()]"
   ]
  },
  {
   "cell_type": "code",
   "execution_count": 16,
   "metadata": {},
   "outputs": [
    {
     "data": {
      "text/html": [
       "<div>\n",
       "<style scoped>\n",
       "    .dataframe tbody tr th:only-of-type {\n",
       "        vertical-align: middle;\n",
       "    }\n",
       "\n",
       "    .dataframe tbody tr th {\n",
       "        vertical-align: top;\n",
       "    }\n",
       "\n",
       "    .dataframe thead th {\n",
       "        text-align: right;\n",
       "    }\n",
       "</style>\n",
       "<table border=\"1\" class=\"dataframe\">\n",
       "  <thead>\n",
       "    <tr style=\"text-align: right;\">\n",
       "      <th></th>\n",
       "      <th>tr_id</th>\n",
       "      <th>N_term_start</th>\n",
       "      <th>N_term_end</th>\n",
       "      <th>len</th>\n",
       "      <th>N_term_start1</th>\n",
       "      <th>N_term_end1</th>\n",
       "      <th>len_codons</th>\n",
       "      <th>gene</th>\n",
       "      <th>50len_flag</th>\n",
       "      <th>global_coo_50_and_less</th>\n",
       "      <th>...</th>\n",
       "      <th>gene_ext</th>\n",
       "      <th>Start_ext</th>\n",
       "      <th>Stop_ext</th>\n",
       "      <th>global_rank_ext</th>\n",
       "      <th>Start_codon_ext</th>\n",
       "      <th>Proteomics_count_ext</th>\n",
       "      <th>Coverage_value_ext</th>\n",
       "      <th>CDS_ratio</th>\n",
       "      <th>Riboseq_Summary</th>\n",
       "      <th>Nstart_Nend</th>\n",
       "    </tr>\n",
       "  </thead>\n",
       "  <tbody>\n",
       "    <tr>\n",
       "      <th>0</th>\n",
       "      <td>ENST00000624431.1</td>\n",
       "      <td>274</td>\n",
       "      <td>316</td>\n",
       "      <td>42</td>\n",
       "      <td>274</td>\n",
       "      <td>316</td>\n",
       "      <td>14.0</td>\n",
       "      <td>FO538757.2</td>\n",
       "      <td>274</td>\n",
       "      <td>chr1:182667-182708</td>\n",
       "      <td>...</td>\n",
       "      <td>NaN</td>\n",
       "      <td>NaN</td>\n",
       "      <td>NaN</td>\n",
       "      <td>NaN</td>\n",
       "      <td>NaN</td>\n",
       "      <td>NaN</td>\n",
       "      <td>NaN</td>\n",
       "      <td>NaN</td>\n",
       "      <td>NaN</td>\n",
       "      <td>274-316</td>\n",
       "    </tr>\n",
       "    <tr>\n",
       "      <th>1</th>\n",
       "      <td>ENST00000624735.1</td>\n",
       "      <td>0</td>\n",
       "      <td>236</td>\n",
       "      <td>236</td>\n",
       "      <td>2</td>\n",
       "      <td>236</td>\n",
       "      <td>78.0</td>\n",
       "      <td>FO538757.1</td>\n",
       "      <td>86</td>\n",
       "      <td>chr1:200087-200236</td>\n",
       "      <td>...</td>\n",
       "      <td>NaN</td>\n",
       "      <td>NaN</td>\n",
       "      <td>NaN</td>\n",
       "      <td>NaN</td>\n",
       "      <td>NaN</td>\n",
       "      <td>NaN</td>\n",
       "      <td>NaN</td>\n",
       "      <td>NaN</td>\n",
       "      <td>NaN</td>\n",
       "      <td>2-236</td>\n",
       "    </tr>\n",
       "  </tbody>\n",
       "</table>\n",
       "<p>2 rows × 42 columns</p>\n",
       "</div>"
      ],
      "text/plain": [
       "               tr_id  N_term_start  N_term_end  len  N_term_start1  \\\n",
       "0  ENST00000624431.1           274         316   42            274   \n",
       "1  ENST00000624735.1             0         236  236              2   \n",
       "\n",
       "   N_term_end1  len_codons        gene  50len_flag global_coo_50_and_less  \\\n",
       "0          316        14.0  FO538757.2         274     chr1:182667-182708   \n",
       "1          236        78.0  FO538757.1          86     chr1:200087-200236   \n",
       "\n",
       "   ... gene_ext Start_ext Stop_ext global_rank_ext  Start_codon_ext  \\\n",
       "0  ...      NaN       NaN      NaN             NaN              NaN   \n",
       "1  ...      NaN       NaN      NaN             NaN              NaN   \n",
       "\n",
       "   Proteomics_count_ext  Coverage_value_ext  CDS_ratio  Riboseq_Summary  \\\n",
       "0                   NaN                 NaN        NaN              NaN   \n",
       "1                   NaN                 NaN        NaN              NaN   \n",
       "\n",
       "   Nstart_Nend  \n",
       "0      274-316  \n",
       "1        2-236  \n",
       "\n",
       "[2 rows x 42 columns]"
      ]
     },
     "execution_count": 16,
     "metadata": {},
     "output_type": "execute_result"
    }
   ],
   "source": [
    "# open metadata with scores and metrics\n",
    "meta = pd.read_csv('/home/alla/make_PhD_great_again/NTE/VERSION_since_May2021/tmp_res/METADATA_CURRENT.txt', sep='\\t')\n",
    "\n",
    "meta[0:2]"
   ]
  },
  {
   "cell_type": "code",
   "execution_count": null,
   "metadata": {},
   "outputs": [],
   "source": []
  },
  {
   "cell_type": "code",
   "execution_count": null,
   "metadata": {},
   "outputs": [],
   "source": []
  },
  {
   "cell_type": "code",
   "execution_count": null,
   "metadata": {},
   "outputs": [],
   "source": []
  },
  {
   "cell_type": "code",
   "execution_count": null,
   "metadata": {},
   "outputs": [],
   "source": []
  },
  {
   "cell_type": "code",
   "execution_count": null,
   "metadata": {},
   "outputs": [],
   "source": []
  },
  {
   "cell_type": "code",
   "execution_count": null,
   "metadata": {},
   "outputs": [],
   "source": []
  },
  {
   "cell_type": "markdown",
   "metadata": {},
   "source": [
    "# Get sequences of extensions "
   ]
  },
  {
   "cell_type": "code",
   "execution_count": 17,
   "metadata": {},
   "outputs": [
    {
     "name": "stdout",
     "output_type": "stream",
     "text": [
      "PYGO2 ENST00000368457.2 44 176\n",
      "nonAUG_AUG seq CTGTCGTCGCACTTTGTGGTTGCTGCAGCTCGGGGGCCTGGGCTGCCCCTGACACCCCTTCTGGGCGATGGTGCAGCCCAAGGGCGCCTCCATCCCCCGCCGCTGCCGCTAACCCGGGTCCCCCACTCCATG\n",
      "100nt downstrem CTGTCGTCGCACTTTGTGGTTGCTGCAGCTCGGGGGCCTGGGCTGCCCCTGACACCCCTTCTGGGCGATGGTGCAGCCCAAGGGCGCCTCCATCCCCCGC\n",
      "\n",
      "STK38 ENST00000229812.7 221 290\n",
      "nonAUG_AUG seq CTGGCCGAAGGGGCGTCTGCGGCTCTCCGCCGTCCCCAGCCCTGCCTCTCCCTGGGCTCTGCAGCCATG\n",
      "100nt downstrem CTGGCCGAAGGGGCGTCTGCGGCTCTCCGCCGTCCCCAGCCCTGCCTCTCCCTGGGCTCTGCAGCCATGGCAATGACAGGCTCAACACCTTGCTCATCCA\n",
      "\n",
      "SLC25A32 ENST00000297578.8 30 171\n",
      "nonAUG_AUG seq TTGGGCATAAGAGTCCTCTCGTTGGTCCCGGAGGTGGGGTTGCGCTCACAAGGGGCGACCGTCGCCACGGTGGCGGCCACTGCATCGCGTCCCACCTCCGCGGCCCTGGGCGCCGTGGTGTCGACGGGCCCCGAGCCTATG\n",
      "100nt downstrem TTGGGCATAAGAGTCCTCTCGTTGGTCCCGGAGGTGGGGTTGCGCTCACAAGGGGCGACCGTCGCCACGGTGGCGGCCACTGCATCGCGTCCCACCTCCG\n",
      "\n",
      "MT1F ENST00000334350.6 336 369\n",
      "nonAUG_AUG seq TTGGAAAGTCCAGTCTCTCCTCGGCTTGCAATG\n",
      "100nt downstrem TTGGAAAGTCCAGTCTCTCCTCGGCTTGCAATGGACCCCAACTGCTCCTGCGCCGCTGGTGTCTCCTGCACCTGCGCTGGTTCCTGCAAGTGCAAAGAGT\n",
      "\n",
      "CCDC8 ENST00000307522.3 565 778\n",
      "nonAUG_AUG seq CTGGAGATCTTAAAGACTCTCGAGAAAAGCCACGTGGGGGGCTGGTTCCCCTGGGGCTTCCTGCCGTCCCCCGACTGCCTCATTCTTTGGAGCGTCCCCGATGTCTGCAAAGATGTGGATTTGGACGTCCTCGTGGAAGCCCTAAAGCCCGTGGGGACATTTAAGAAGATCGGCAAGGTGTTCCGCAAGGAGGAGGACTCCACGGTGGGGATG\n",
      "100nt downstrem CTGGAGATCTTAAAGACTCTCGAGAAAAGCCACGTGGGGGGCTGGTTCCCCTGGGGCTTCCTGCCGTCCCCCGACTGCCTCATTCTTTGGAGCGTCCCCG\n",
      "\n",
      "RGS19 ENST00000395042.1 229 271\n",
      "nonAUG_AUG seq CTGGTACCACGGAGCCTGGGCAACCTCCTCCGCCCACCCATG\n",
      "100nt downstrem CTGGTACCACGGAGCCTGGGCAACCTCCTCCGCCCACCCATGCCCACCCCGCATGAGGCTGAGAAGCAGATCACAGGGCCAGAGGAGGCGGACCGGCCCC\n",
      "\n"
     ]
    }
   ],
   "source": [
    "for el in meta[(meta['Riboseq_Summary'].notna()) & (meta['gene'].isin(['CCDC8', 'PYGO2', 'RGS19', 'STK38', 'SLC25A32', 'MT1F']))][['tr_id', 'gene', 'Riboseq_Summary']].merge(metadata_pc_g25[['tr_id', 'transcript_seq']], on='tr_id', how='inner').to_numpy():\n",
    "    tr_id = el[0]\n",
    "    gene = el[1]\n",
    "    summary = el[2]\n",
    "    start = int(summary.split('; ')[1].split('-')[0])\n",
    "    stop = int(summary.split('; ')[1].split('-')[1])\n",
    "    tr_seq = el[-1]\n",
    "    \n",
    "    if gene == 'CCDC8':\n",
    "        start = 565\n",
    "    print (gene, tr_id, start, stop+3)\n",
    "    print ('nonAUG_AUG seq', tr_seq[start-1:stop+2])\n",
    "    #print ('hairpin d14-17nt')\n",
    "    #print ('10nt upstream', tr_seq[start-11:start-1])\n",
    "    print ('100nt downstrem', tr_seq[start-1:start-1+100])\n",
    "    print ()"
   ]
  },
  {
   "cell_type": "code",
   "execution_count": 18,
   "metadata": {},
   "outputs": [],
   "source": [
    "# PYGO2 no eligible haipins \n",
    "# STK38 no\n",
    "# "
   ]
  },
  {
   "cell_type": "code",
   "execution_count": 19,
   "metadata": {},
   "outputs": [
    {
     "name": "stdout",
     "output_type": "stream",
     "text": [
      "TRPV6 ENST00000359396.7\n",
      "50nt downstream of nonAUG ACGGGACCTCTACAGGGAGACGGTGGGCCGGCCCTTGGGGGGGCTGATGT\n",
      "100nt downstrem ACGGGACCTCTACAGGGAGACGGTGGGCCGGCCCTTGGGGGGGCTGATGTGGCCCCAAGGCTGAGTCCCGTCAGGGTCTGGCCTCGGCCTCAGGCCCCCA\n",
      "\n",
      "TRPV6 ENST00000436401.1\n",
      "50nt downstream of nonAUG ATGACCCCTAAGGACGATATCCGGCTGGTCGGGGAGCTGGTGACTGTCAT\n",
      "100nt downstrem ATGACCCCTAAGGACGATATCCGGCTGGTCGGGGAGCTGGTGACTGTCATTGGGGCTATCATCATCCTGCTGGTAGAGGTTCCAGACATCTTCAGAATGG\n",
      "\n",
      "TRPV6 ENST00000431833.1\n",
      "50nt downstream of nonAUG ATGCCAGGAGCCATGGGGGAAACAGCGCTACACATAGCAGCCCTCTATGA\n",
      "100nt downstrem ATGCCAGGAGCCATGGGGGAAACAGCGCTACACATAGCAGCCCTCTATGACAACCTGGAGGCCGCCATGGTGCTGATGGAGGCTGCCCCGGAGCTGGTCT\n",
      "\n",
      "EIF4G2 ENST00000526148.5\n",
      "50nt downstream of nonAUG GTGGAGAGTGCGATTGCAGAAGGGGGTGCTTCTCGTTTCAGTGCTTCTTC\n",
      "100nt downstrem GTGGAGAGTGCGATTGCAGAAGGGGGTGCTTCTCGTTTCAGTGCTTCTTCGGGCGGAGGAGGAAGTAGGGGTGCACCTCAGCACTATCCCAAGACTGCTG\n",
      "\n",
      "EIF4G2 ENST00000525681.5\n",
      "50nt downstream of nonAUG GTGGAGAGTGCGATTGCAGAAGGGGGTGCTTCTCGTTTCAGTGCTTCTTC\n",
      "100nt downstrem GTGGAGAGTGCGATTGCAGAAGGGGGTGCTTCTCGTTTCAGTGCTTCTTCGGGCGGAGGAGGAAGTAGGGGTGCACCTCAGCACTATCCCAAGACTGCTG\n",
      "\n",
      "EIF4G2 ENST00000339995.9\n",
      "50nt downstream of nonAUG GTGGAGAGTGCGATTGCAGAAGGGGGTGCTTCTCGTTTCAGTGCTTCTTC\n",
      "100nt downstrem GTGGAGAGTGCGATTGCAGAAGGGGGTGCTTCTCGTTTCAGTGCTTCTTCGGGCGGAGGAGGAAGTAGGGGTGCACCTCAGCACTATCCCAAGACTGCTG\n",
      "\n",
      "EIF4G2 ENST00000396525.6\n",
      "50nt downstream of nonAUG GTGGAGAGTGCGATTGCAGAAGGGGGTGCTTCTCGTTTCAGTGCTTCTTC\n",
      "100nt downstrem GTGGAGAGTGCGATTGCAGAAGGGGGTGCTTCTCGTTTCAGTGCTTCTTCGGGCGGAGGAGGAAGTAGGGGTGCACCTCAGCACTATCCCAAGACTGCTG\n",
      "\n",
      "EIF4G2 ENST00000528839.1\n",
      "50nt downstream of nonAUG ATCAGTTTACTCAAACAGGAAGGGATAGCCACAAGTGACAACTTCATGCA\n",
      "100nt downstrem ATCAGTTTACTCAAACAGGAAGGGATAGCCACAAGTGACAACTTCATGCAGGCTTTCCTGAATGTATTGGACCAGTGTCCCAAACTGGAGGTTGACATCC\n",
      "\n",
      "EIF4G2 ENST00000531180.1\n",
      "50nt downstream of nonAUG ATGATTCCTCCTAGTGCACAACCACCACGCACTCAAACACCACCTCTGGG\n",
      "100nt downstrem ATGATTCCTCCTAGTGCACAACCACCACGCACTCAAACACCACCTCTGGGACAGACACCTCAGCTTGGTCTCAAAACTAATCCACCGCTTATCCAGGAAA\n",
      "\n",
      "EIF4G2 ENST00000531416.5\n",
      "50nt downstream of nonAUG GTGGAGAGTGCGATTGCAGAAGGGGGTGCTTCTCGTTTCAGTGCTTCTTC\n",
      "100nt downstrem GTGGAGAGTGCGATTGCAGAAGGGGGTGCTTCTCGTTTCAGTGCTTCTTCGGGCGGAGGAGGAAGTAGGGGTGCACCTCAGCACTATCCCAAGACTGCTG\n",
      "\n",
      "EIF4G2 ENST00000531647.5\n",
      "50nt downstream of nonAUG GTGGAGAGTGCGATTGCAGAAGGGGGTGCTTCTCGTTTCAGTGCTTCTTC\n",
      "100nt downstrem GTGGAGAGTGCGATTGCAGAAGGGGGTGCTTCTCGTTTCAGTGCTTCTTCGGGCGGAGGAGGAAGTAGGGGTGCACCTCAGCACTATCCCAAGACTGCTG\n",
      "\n",
      "EIF4G2 ENST00000532082.5\n",
      "50nt downstream of nonAUG GTGGAGAGTGCGATTGCAGAAGGGGGTGCTTCTCGTTTCAGTGCTTCTTC\n",
      "100nt downstrem GTGGAGAGTGCGATTGCAGAAGGGGGTGCTTCTCGTTTCAGTGCTTCTTCGGGCGGAGGAGGAAGTAGGGGTGCACCTCAGCACTATCCCAAGACTGCTG\n",
      "\n",
      "EIF4G2 ENST00000524932.5\n",
      "50nt downstream of nonAUG GTGGAGAGTGCGATTGCAGAAGGGGGTGCTTCTCGTTTCAGTGCTTCTTC\n",
      "100nt downstrem GTGGAGAGTGCGATTGCAGAAGGGGGTGCTTCTCGTTTCAGTGCTTCTTCGGGCGGAGGAGGAAGTAGGGGTGCACCTCAGCACTATCCCAAGACTGCTG\n",
      "\n",
      "EIF4G2 ENST00000534605.1\n",
      "50nt downstream of nonAUG ACGAAAAAGAACGACATGATGCAATCTTCAGGAAAGTAAGAGGATTGTGG\n",
      "100nt downstrem ACGAAAAAGAACGACATGATGCAATCTTCAGGAAAGTAAGAGGATTGTGGACAAAGCCCTAGAAGAGCCAAAGTATAGCTCACTGTATGCTCAGCTATGT\n",
      "\n",
      "EIF4G2 ENST00000527419.5\n",
      "50nt downstream of nonAUG GTGGAGAAACGACATGATGCAATCTTCAGGAAAGTAAGAGGCATACTAAA\n",
      "100nt downstrem GTGGAGAAACGACATGATGCAATCTTCAGGAAAGTAAGAGGCATACTAAATAAGCTTACTCCTGAAAAGTTTGACAAGCTATGCCTTGAGCTCCTCAATG\n",
      "\n",
      "EIF4G2 ENST00000528562.5\n",
      "50nt downstream of nonAUG GTGGAGAGTGCGATTGCAGAAGGGGGTGCTTCTCGTTTCAGAAATGGATT\n",
      "100nt downstrem GTGGAGAGTGCGATTGCAGAAGGGGGTGCTTCTCGTTTCAGAAATGGATTCCTGCACGAAGCACTAGACGAGATGACAACTCCGCAGCAAACAACTCCGC\n",
      "\n",
      "EIF4G2 ENST00000532570.5\n",
      "50nt downstream of nonAUG GTGGAGAGTGCGATTGCAGAAGGGGGTGCTTCTCGTTTCAGTGCTTCTTC\n",
      "100nt downstrem GTGGAGAGTGCGATTGCAGAAGGGGGTGCTTCTCGTTTCAGTGCTTCTTCGGGCGGAGGAGGAAGTAGGGGTGCACCTCAGCACTATCCCAAGACTGCTG\n",
      "\n",
      "EIF4G2 ENST00000530211.5\n",
      "50nt downstream of nonAUG GTGGAGAGTGCGATTGCAGAAGGGGGTGCTTCTCGTTTCAGTGCTTCTTC\n",
      "100nt downstrem GTGGAGAGTGCGATTGCAGAAGGGGGTGCTTCTCGTTTCAGTGCTTCTTCGGGCGGAGGAGGAAGTAGGGGTGCACCTCAGCACTATCCCAAGACTGCTG\n",
      "\n",
      "EIF4G2 ENST00000527526.5\n",
      "50nt downstream of nonAUG GTGGAGAGTGCGATTGCAGAAGGGGGTGCTTCTCGTTTCAGTGCTTCTTC\n",
      "100nt downstrem GTGGAGAGTGCGATTGCAGAAGGGGGTGCTTCTCGTTTCAGTGCTTCTTCGGGCGGAGGAGGAAGTAGGGGTGCACCTCAGCACTATCCCAAGACTGCTG\n",
      "\n",
      "EIF4G2 ENST00000530702.1\n",
      "50nt downstream of nonAUG GTGGAGAGTGCGATTGCAGAAGGGGGTGCTTCTCGTTTCAGCGAGTTCCT\n",
      "100nt downstrem GTGGAGAGTGCGATTGCAGAAGGGGGTGCTTCTCGTTTCAGCGAGTTCCTGGGGAAAACCCCAGGGCAAAACGCTCAGAAATGGATTCCTGCACGAAGCA\n",
      "\n",
      "GTF3A ENST00000381140.8\n",
      "50nt downstream of nonAUG CTGGATCCGCCGGCCGTGGTCGCCGAGTCGGTGTCGTCCTTGACCATCGC\n",
      "100nt downstrem CTGGATCCGCCGGCCGTGGTCGCCGAGTCGGTGTCGTCCTTGACCATCGCCGACGCGTTCATTGCAGCCGGCGAGAGCTCAGCTCCGACCCCGCCGCGCC\n",
      "\n",
      "GTF3A ENST00000435781.5\n",
      "50nt downstream of nonAUG CTGGATCCGCCGGCCGTGGTCGCCGAGTCGGTGTCGTCCTTGACCATCGC\n",
      "100nt downstrem CTGGATCCGCCGGCCGTGGTCGCCGAGTCGGTGTCGTCCTTGACCATCGCCGACGCGTTCATTGCAGCCGGCGAGAGCTCAGCTCCGACCCCGCCGCGCC\n",
      "\n",
      "GTF3A ENST00000419181.5\n",
      "50nt downstream of nonAUG CTGGATCCGCCGGCCGTGGTCGCCGAGTCGGTGTCGTCCTTGACCATCGC\n",
      "100nt downstrem CTGGATCCGCCGGCCGTGGTCGCCGAGTCGGTGTCGTCCTTGACCATCGCCGACGCGTTCATTGCAGCCGGCGAGAGCTCAGCTCCGACCCCGCCGCGCC\n",
      "\n",
      "GTF3A ENST00000438571.5\n",
      "50nt downstream of nonAUG CTGGATCCGCCGGCCGTGGTCGCCGAGTCGGTGTCGTCCTTGACCATCGC\n",
      "100nt downstrem CTGGATCCGCCGGCCGTGGTCGCCGAGTCGGTGTCGTCCTTGACCATCGCCGACGCGTTCATTGCAGCCGGCGAGAGCTCAGCTCCGACCCCGCCGCGCC\n",
      "\n"
     ]
    }
   ],
   "source": [
    "for el in metadata_pc_g25[metadata_pc_g25['gene'].isin(['GTF3A', 'EIF4G2', 'TRPV6'])][['tr_id', 'gene', 'cds_start_pos', 'transcript_seq']].to_numpy():\n",
    "    tr_id = el[0]\n",
    "    gene = el[1]\n",
    "    cds_start_pos = el[2]\n",
    "    tr_seq = el[3]\n",
    "    \n",
    "    \n",
    "    print (gene, tr_id)\n",
    "    print ('50nt downstream of nonAUG', tr_seq[cds_start_pos:cds_start_pos+50])\n",
    "    #print ('10nt upstream', tr_seq[cds_start_pos-10:cds_start_pos])\n",
    "    print ('100nt downstrem', tr_seq[cds_start_pos:cds_start_pos+100])\n",
    "    print ()"
   ]
  },
  {
   "cell_type": "code",
   "execution_count": null,
   "metadata": {},
   "outputs": [],
   "source": []
  },
  {
   "cell_type": "code",
   "execution_count": null,
   "metadata": {},
   "outputs": [],
   "source": []
  },
  {
   "cell_type": "code",
   "execution_count": 20,
   "metadata": {},
   "outputs": [
    {
     "data": {
      "text/plain": [
       "'CGCCCCGCGCTTCCCAGGAGGTTCATCTGCTCCTTCCCTGACTGCAGCGCCAATTA'"
      ]
     },
     "execution_count": 20,
     "metadata": {},
     "output_type": "execute_result"
    }
   ],
   "source": [
    "'CGC\tCCC\tGCG\tCTT\tCCC\tAGG\tAGG\tTTC\tATC\tTGC\tTCC\tTTC\tCCT\tGAC\tTGC\tAGC\tGCC\tAAT\tTA'.replace('\\t', '')"
   ]
  },
  {
   "cell_type": "markdown",
   "metadata": {},
   "source": [
    "# Proteomics/peptidomics "
   ]
  },
  {
   "cell_type": "code",
   "execution_count": 21,
   "metadata": {},
   "outputs": [
    {
     "ename": "SyntaxError",
     "evalue": "invalid syntax (<ipython-input-21-da30a0751835>, line 1)",
     "output_type": "error",
     "traceback": [
      "\u001b[0;36m  File \u001b[0;32m\"<ipython-input-21-da30a0751835>\"\u001b[0;36m, line \u001b[0;32m1\u001b[0m\n\u001b[0;31m    GTF3A: CUG in mammals, but no N-term-ext in fish/amphibia.\u001b[0m\n\u001b[0m                         ^\u001b[0m\n\u001b[0;31mSyntaxError\u001b[0m\u001b[0;31m:\u001b[0m invalid syntax\n"
     ]
    }
   ],
   "source": [
    "GTF3A: CUG in mammals, but no N-term-ext in fish/amphibia.\n",
    "    \n",
    "Any proteomics data? \n",
    "\n",
    "Openprot "
   ]
  },
  {
   "cell_type": "code",
   "execution_count": null,
   "metadata": {},
   "outputs": [],
   "source": []
  },
  {
   "cell_type": "code",
   "execution_count": null,
   "metadata": {},
   "outputs": [],
   "source": []
  },
  {
   "cell_type": "markdown",
   "metadata": {},
   "source": [
    "# Scan for m6A "
   ]
  },
  {
   "cell_type": "code",
   "execution_count": null,
   "metadata": {},
   "outputs": [],
   "source": []
  },
  {
   "cell_type": "code",
   "execution_count": null,
   "metadata": {},
   "outputs": [],
   "source": []
  },
  {
   "cell_type": "code",
   "execution_count": null,
   "metadata": {},
   "outputs": [],
   "source": []
  },
  {
   "cell_type": "code",
   "execution_count": null,
   "metadata": {},
   "outputs": [],
   "source": []
  },
  {
   "cell_type": "code",
   "execution_count": null,
   "metadata": {},
   "outputs": [],
   "source": []
  }
 ],
 "metadata": {
  "kernelspec": {
   "display_name": "Python 3",
   "language": "python",
   "name": "python3"
  },
  "language_info": {
   "codemirror_mode": {
    "name": "ipython",
    "version": 3
   },
   "file_extension": ".py",
   "mimetype": "text/x-python",
   "name": "python",
   "nbconvert_exporter": "python",
   "pygments_lexer": "ipython3",
   "version": "3.7.6"
  }
 },
 "nbformat": 4,
 "nbformat_minor": 2
}
